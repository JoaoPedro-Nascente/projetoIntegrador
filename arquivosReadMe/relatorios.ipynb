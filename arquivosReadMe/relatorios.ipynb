{
  "nbformat": 4,
  "nbformat_minor": 0,
  "metadata": {
    "colab": {
      "name": "relatorios",
      "provenance": [],
      "collapsed_sections": [
        "vzukm3-5w34A",
        "ikIQ0Q6B9IDx"
      ]
    },
    "kernelspec": {
      "name": "python3",
      "display_name": "Python 3"
    },
    "language_info": {
      "name": "python"
    }
  },
  "cells": [
    {
      "cell_type": "markdown",
      "metadata": {
        "id": "vzukm3-5w34A"
      },
      "source": [
        "# Conexão com postgres e Relatorios do sistema"
      ]
    },
    {
      "cell_type": "markdown",
      "metadata": {
        "id": "ikIQ0Q6B9IDx"
      },
      "source": [
        "## Instalando bibliotecas de acesso ao postgres, manipulação de dados e gráficos\n",
        "\n"
      ]
    },
    {
      "cell_type": "code",
      "metadata": {
        "id": "ydQRM0_q0Xo8"
      },
      "source": [
        "#!pip install pandas\n",
        "#!pip install seaborn\n",
        "#!pip install psycopg2-binary"
      ],
      "execution_count": 11,
      "outputs": []
    },
    {
      "cell_type": "markdown",
      "metadata": {
        "id": "bToon85e-0Jh"
      },
      "source": [
        "### Importando bibliotecas\n"
      ]
    },
    {
      "cell_type": "code",
      "metadata": {
        "id": "q7cBYgKy-9d7"
      },
      "source": [
        "import seaborn as sns\n",
        "import matplotlib.pyplot as plt\n",
        "import pandas as pd\n",
        "import psycopg2"
      ],
      "execution_count": 12,
      "outputs": []
    },
    {
      "cell_type": "markdown",
      "metadata": {
        "id": "HQ3x5xf1_SNJ"
      },
      "source": [
        "### Usando psycopg2 para configurar conexão"
      ]
    },
    {
      "cell_type": "code",
      "metadata": {
        "id": "KnZq8X5T_bpv"
      },
      "source": [
        "conn = psycopg2.connect(host=\"motty.db.elephantsql.com\",database=\"gshqrvpq\", user=\"gshqrvpq\", password=\"AQ36xYHbCASn7K_zm2JmWuMavIwirFN4\")"
      ],
      "execution_count": 13,
      "outputs": []
    },
    {
      "cell_type": "code",
      "metadata": {
        "colab": {
          "base_uri": "https://localhost:8080/"
        },
        "id": "SXuecALp_ehQ",
        "outputId": "0d891f33-c9bf-4cb8-9880-431150cfa87d"
      },
      "source": [
        "conn"
      ],
      "execution_count": 14,
      "outputs": [
        {
          "output_type": "execute_result",
          "data": {
            "text/plain": [
              "<connection object at 0x7f43216a2b90; dsn: 'user=gshqrvpq password=xxx dbname=gshqrvpq host=motty.db.elephantsql.com', closed: 0>"
            ]
          },
          "metadata": {},
          "execution_count": 14
        }
      ]
    },
    {
      "cell_type": "markdown",
      "metadata": {
        "id": "UZnBb87yCY_4"
      },
      "source": [
        "#Relatórios"
      ]
    },
    {
      "cell_type": "markdown",
      "metadata": {
        "id": "Nozu1yS4D7M-"
      },
      "source": [
        "# ==========================================================================================\n",
        "## Relatório 1\n",
        "### Objetivo: Relatório de lojas cadastradas incluindo as seguintes informações: nome da loja e o endereço da loja.\n",
        "Código para obtenção do resultado:"
      ]
    },
    {
      "cell_type": "code",
      "metadata": {
        "colab": {
          "base_uri": "https://localhost:8080/",
          "height": 204
        },
        "id": "9ErJRdLrUleN",
        "outputId": "3c3db795-1cb4-462d-f63d-8e8cc0fc01d5"
      },
      "source": [
        "res = pd.read_sql_query(\"SELECT pessoa.idpessoa, pessoa.dscnompessoa, pessoa.endereco FROM mydb.pessoa INNER JOIN mydb.catalogo ON(pessoa.idpessoa = catalogo.pessoa_idpessoa) GROUP BY pessoa.idpessoa\", conn)\n",
        "res"
      ],
      "execution_count": null,
      "outputs": [
        {
          "output_type": "execute_result",
          "data": {
            "text/html": [
              "<div>\n",
              "<style scoped>\n",
              "    .dataframe tbody tr th:only-of-type {\n",
              "        vertical-align: middle;\n",
              "    }\n",
              "\n",
              "    .dataframe tbody tr th {\n",
              "        vertical-align: top;\n",
              "    }\n",
              "\n",
              "    .dataframe thead th {\n",
              "        text-align: right;\n",
              "    }\n",
              "</style>\n",
              "<table border=\"1\" class=\"dataframe\">\n",
              "  <thead>\n",
              "    <tr style=\"text-align: right;\">\n",
              "      <th></th>\n",
              "      <th>idpessoa</th>\n",
              "      <th>dscnompessoa</th>\n",
              "      <th>endereco</th>\n",
              "    </tr>\n",
              "  </thead>\n",
              "  <tbody>\n",
              "    <tr>\n",
              "      <th>0</th>\n",
              "      <td>15</td>\n",
              "      <td>Belo Tricot</td>\n",
              "      <td>Avenida Neymar Junior - 2022</td>\n",
              "    </tr>\n",
              "    <tr>\n",
              "      <th>1</th>\n",
              "      <td>14</td>\n",
              "      <td>Q Beleza</td>\n",
              "      <td>Avenida Cristiano Ronaldo - 2222</td>\n",
              "    </tr>\n",
              "    <tr>\n",
              "      <th>2</th>\n",
              "      <td>13</td>\n",
              "      <td>Elegance</td>\n",
              "      <td>Avenida Bento Brigadeiro - 208</td>\n",
              "    </tr>\n",
              "    <tr>\n",
              "      <th>3</th>\n",
              "      <td>11</td>\n",
              "      <td>Game Over</td>\n",
              "      <td>Avenida Professor Herminio Blackman - 225</td>\n",
              "    </tr>\n",
              "    <tr>\n",
              "      <th>4</th>\n",
              "      <td>12</td>\n",
              "      <td>Lótus</td>\n",
              "      <td>Rua dos Laranjais - 1008</td>\n",
              "    </tr>\n",
              "  </tbody>\n",
              "</table>\n",
              "</div>"
            ],
            "text/plain": [
              "   idpessoa dscnompessoa                                   endereco\n",
              "0        15  Belo Tricot               Avenida Neymar Junior - 2022\n",
              "1        14     Q Beleza           Avenida Cristiano Ronaldo - 2222\n",
              "2        13     Elegance             Avenida Bento Brigadeiro - 208\n",
              "3        11    Game Over  Avenida Professor Herminio Blackman - 225\n",
              "4        12        Lótus                   Rua dos Laranjais - 1008"
            ]
          },
          "metadata": {},
          "execution_count": 6
        }
      ]
    },
    {
      "cell_type": "markdown",
      "metadata": {
        "id": "NReMgFJtClY_"
      },
      "source": [
        "#==========================================================================================\n",
        "## Relatório 2\n",
        "### Objetivo: Relatório que informe quais as lojas que mais venderam e quanto cada uma vendeu.\n",
        "Código para obtenção do resultado:"
      ]
    },
    {
      "cell_type": "code",
      "metadata": {
        "id": "9yST3m3UC0Vf",
        "colab": {
          "base_uri": "https://localhost:8080/",
          "height": 173
        },
        "outputId": "7b5198cd-114c-4c2a-97df-654ee60af888"
      },
      "source": [
        "res = pd.read_sql_query(\"SELECT pessoa.idpessoa, pessoa.dscnompessoa, SUM(itensvendidos.dscqtd) as TotalVendas FROM mydb.pessoa INNER JOIN mydb.catalogo ON(pessoa.idpessoa = catalogo.pessoa_idpessoa) INNER JOIN mydb.itensvendidos ON(catalogo.idcatalogo = itensvendidos.catalogo_idcatalogo) GROUP BY pessoa.idpessoa ORDER BY SUM(itensvendidos.dscqtd) DESC\", conn)\n",
        "res"
      ],
      "execution_count": 5,
      "outputs": [
        {
          "output_type": "execute_result",
          "data": {
            "text/html": [
              "<div>\n",
              "<style scoped>\n",
              "    .dataframe tbody tr th:only-of-type {\n",
              "        vertical-align: middle;\n",
              "    }\n",
              "\n",
              "    .dataframe tbody tr th {\n",
              "        vertical-align: top;\n",
              "    }\n",
              "\n",
              "    .dataframe thead th {\n",
              "        text-align: right;\n",
              "    }\n",
              "</style>\n",
              "<table border=\"1\" class=\"dataframe\">\n",
              "  <thead>\n",
              "    <tr style=\"text-align: right;\">\n",
              "      <th></th>\n",
              "      <th>idpessoa</th>\n",
              "      <th>dscnompessoa</th>\n",
              "      <th>totalvendas</th>\n",
              "    </tr>\n",
              "  </thead>\n",
              "  <tbody>\n",
              "    <tr>\n",
              "      <th>0</th>\n",
              "      <td>11</td>\n",
              "      <td>Game Over</td>\n",
              "      <td>4</td>\n",
              "    </tr>\n",
              "    <tr>\n",
              "      <th>1</th>\n",
              "      <td>15</td>\n",
              "      <td>Belo Tricot</td>\n",
              "      <td>3</td>\n",
              "    </tr>\n",
              "    <tr>\n",
              "      <th>2</th>\n",
              "      <td>14</td>\n",
              "      <td>Q Beleza</td>\n",
              "      <td>2</td>\n",
              "    </tr>\n",
              "    <tr>\n",
              "      <th>3</th>\n",
              "      <td>13</td>\n",
              "      <td>Elegance</td>\n",
              "      <td>1</td>\n",
              "    </tr>\n",
              "  </tbody>\n",
              "</table>\n",
              "</div>"
            ],
            "text/plain": [
              "   idpessoa dscnompessoa  totalvendas\n",
              "0        11    Game Over            4\n",
              "1        15  Belo Tricot            3\n",
              "2        14     Q Beleza            2\n",
              "3        13     Elegance            1"
            ]
          },
          "metadata": {},
          "execution_count": 5
        }
      ]
    },
    {
      "cell_type": "code",
      "metadata": {
        "colab": {
          "base_uri": "https://localhost:8080/",
          "height": 296
        },
        "id": "rQD9fzhKY2cX",
        "outputId": "3566bcba-d044-48bd-da5e-fffe48e672d5"
      },
      "source": [
        "sns.barplot(x= 'dscnompessoa', y= 'totalvendas', data = res)"
      ],
      "execution_count": 6,
      "outputs": [
        {
          "output_type": "execute_result",
          "data": {
            "text/plain": [
              "<matplotlib.axes._subplots.AxesSubplot at 0x7f4321675850>"
            ]
          },
          "metadata": {},
          "execution_count": 6
        },
        {
          "output_type": "display_data",
          "data": {
            "image/png": "[encoded data removed]",
            "text/plain": [
              "<Figure size 432x288 with 1 Axes>"
            ]
          },
          "metadata": {
            "needs_background": "light"
          }
        }
      ]
    },
    {
      "cell_type": "markdown",
      "metadata": {
        "id": "T-23pwuJDa0w"
      },
      "source": [
        "# ==========================================================================================\n",
        "## Relatório 3\n",
        "### Objetivo: Relatório dos produtos que mais venderam e quanto cada um vendeu com o seu respectivo nome.\n",
        "Código para obtenção do resultado:"
      ]
    },
    {
      "cell_type": "code",
      "metadata": {
        "id": "VeUdNxMVDfQ4",
        "colab": {
          "base_uri": "https://localhost:8080/",
          "height": 266
        },
        "outputId": "269feaa3-8134-4a11-e0a4-b80a5e7665af"
      },
      "source": [
        "res = pd.read_sql_query(\"SELECT produto.dscproduto, SUM(itensvendidos.dscqtd) AS TotalVendas FROM mydb.produto INNER JOIN mydb.catalogo ON(produto.idproduto = catalogo.produto_idproduto) INNER JOIN mydb.itensvendidos ON(itensvendidos.catalogo_idcatalogo = catalogo.idcatalogo) GROUP BY produto.idproduto ORDER BY SUM(itensvendidos.dscqtd) DESC\", conn)\n",
        "res"
      ],
      "execution_count": 18,
      "outputs": [
        {
          "output_type": "execute_result",
          "data": {
            "text/html": [
              "<div>\n",
              "<style scoped>\n",
              "    .dataframe tbody tr th:only-of-type {\n",
              "        vertical-align: middle;\n",
              "    }\n",
              "\n",
              "    .dataframe tbody tr th {\n",
              "        vertical-align: top;\n",
              "    }\n",
              "\n",
              "    .dataframe thead th {\n",
              "        text-align: right;\n",
              "    }\n",
              "</style>\n",
              "<table border=\"1\" class=\"dataframe\">\n",
              "  <thead>\n",
              "    <tr style=\"text-align: right;\">\n",
              "      <th></th>\n",
              "      <th>dscproduto</th>\n",
              "      <th>totalvendas</th>\n",
              "    </tr>\n",
              "  </thead>\n",
              "  <tbody>\n",
              "    <tr>\n",
              "      <th>0</th>\n",
              "      <td>Estojo de maquiagem</td>\n",
              "      <td>3</td>\n",
              "    </tr>\n",
              "    <tr>\n",
              "      <th>1</th>\n",
              "      <td>Televisão Sony 50</td>\n",
              "      <td>2</td>\n",
              "    </tr>\n",
              "    <tr>\n",
              "      <th>2</th>\n",
              "      <td>Calças Jeans</td>\n",
              "      <td>1</td>\n",
              "    </tr>\n",
              "    <tr>\n",
              "      <th>3</th>\n",
              "      <td>Camisa Polo</td>\n",
              "      <td>1</td>\n",
              "    </tr>\n",
              "    <tr>\n",
              "      <th>4</th>\n",
              "      <td>Vestido longo</td>\n",
              "      <td>1</td>\n",
              "    </tr>\n",
              "    <tr>\n",
              "      <th>5</th>\n",
              "      <td>Playstation 4</td>\n",
              "      <td>1</td>\n",
              "    </tr>\n",
              "    <tr>\n",
              "      <th>6</th>\n",
              "      <td>Caneca decorada</td>\n",
              "      <td>1</td>\n",
              "    </tr>\n",
              "  </tbody>\n",
              "</table>\n",
              "</div>"
            ],
            "text/plain": [
              "            dscproduto  totalvendas\n",
              "0  Estojo de maquiagem            3\n",
              "1    Televisão Sony 50            2\n",
              "2         Calças Jeans            1\n",
              "3          Camisa Polo            1\n",
              "4        Vestido longo            1\n",
              "5        Playstation 4            1\n",
              "6      Caneca decorada            1"
            ]
          },
          "metadata": {},
          "execution_count": 18
        }
      ]
    },
    {
      "cell_type": "code",
      "metadata": {
        "colab": {
          "base_uri": "https://localhost:8080/",
          "height": 392
        },
        "id": "TjMexqrBjkE3",
        "outputId": "58cfd275-770e-4f3a-e827-ec55a8d06e52"
      },
      "source": [
        "plt.xticks(rotation=70)\n",
        "sns.barplot(x = 'dscproduto', y = 'totalvendas', data = res)"
      ],
      "execution_count": 21,
      "outputs": [
        {
          "output_type": "execute_result",
          "data": {
            "text/plain": [
              "<matplotlib.axes._subplots.AxesSubplot at 0x7f43207ad150>"
            ]
          },
          "metadata": {},
          "execution_count": 21
        },
        {
          "output_type": "display_data",
          "data": {
            "image/png": "[encoded data removed]",
            "text/plain": [
              "<Figure size 432x288 with 1 Axes>"
            ]
          },
          "metadata": {
            "needs_background": "light"
          }
        }
      ]
    },
    {
      "cell_type": "markdown",
      "metadata": {
        "id": "Bc2wkPRWDftw"
      },
      "source": [
        "# ==========================================================================================\n",
        "## Relatório 4\n",
        "### Objetivo: Relatório dos clientes que mais compraram e quanto cada um comprou, com seu nome e endereço.\n",
        "Código para obtenção do resultado:"
      ]
    },
    {
      "cell_type": "code",
      "metadata": {
        "colab": {
          "base_uri": "https://localhost:8080/",
          "height": 173
        },
        "id": "SEKR84dVhW5v",
        "outputId": "24ed40a1-7d7e-4f07-ed20-d7bd28297a03"
      },
      "source": [
        "res = pd.read_sql_query(\"SELECT pessoa.dscnompessoa, pessoa.endereco, SUM(itensvendidos.dscqtd) FROM mydb.pessoa INNER JOIN mydb.pedido ON(pedido.pessoa_idpessoa = pessoa.idpessoa) INNER JOIN mydb.itensvendidos ON(itensvendidos.pedido_idpedido = pedido.idpedido) GROUP BY pessoa.idpessoa ORDER BY SUM(itensvendidos.dscqtd) DESC\", conn)\n",
        "res"
      ],
      "execution_count": 24,
      "outputs": [
        {
          "output_type": "execute_result",
          "data": {
            "text/html": [
              "<div>\n",
              "<style scoped>\n",
              "    .dataframe tbody tr th:only-of-type {\n",
              "        vertical-align: middle;\n",
              "    }\n",
              "\n",
              "    .dataframe tbody tr th {\n",
              "        vertical-align: top;\n",
              "    }\n",
              "\n",
              "    .dataframe thead th {\n",
              "        text-align: right;\n",
              "    }\n",
              "</style>\n",
              "<table border=\"1\" class=\"dataframe\">\n",
              "  <thead>\n",
              "    <tr style=\"text-align: right;\">\n",
              "      <th></th>\n",
              "      <th>dscnompessoa</th>\n",
              "      <th>endereco</th>\n",
              "      <th>sum</th>\n",
              "    </tr>\n",
              "  </thead>\n",
              "  <tbody>\n",
              "    <tr>\n",
              "      <th>0</th>\n",
              "      <td>Mario Luiz</td>\n",
              "      <td>Rua São João - 22</td>\n",
              "      <td>4</td>\n",
              "    </tr>\n",
              "    <tr>\n",
              "      <th>1</th>\n",
              "      <td>Julia Gomes</td>\n",
              "      <td>Vale da Praia - 225</td>\n",
              "      <td>3</td>\n",
              "    </tr>\n",
              "    <tr>\n",
              "      <th>2</th>\n",
              "      <td>Paulo Andre</td>\n",
              "      <td>Rua dos Lírios - 228</td>\n",
              "      <td>2</td>\n",
              "    </tr>\n",
              "    <tr>\n",
              "      <th>3</th>\n",
              "      <td>Gabriel Felix</td>\n",
              "      <td>Avenida Ho Shi Min - 117</td>\n",
              "      <td>1</td>\n",
              "    </tr>\n",
              "  </tbody>\n",
              "</table>\n",
              "</div>"
            ],
            "text/plain": [
              "    dscnompessoa                  endereco  sum\n",
              "0     Mario Luiz         Rua São João - 22    4\n",
              "1    Julia Gomes       Vale da Praia - 225    3\n",
              "2    Paulo Andre      Rua dos Lírios - 228    2\n",
              "3  Gabriel Felix  Avenida Ho Shi Min - 117    1"
            ]
          },
          "metadata": {},
          "execution_count": 24
        }
      ]
    },
    {
      "cell_type": "code",
      "metadata": {
        "id": "R7CrY_HADuB3",
        "colab": {
          "base_uri": "https://localhost:8080/",
          "height": 296
        },
        "outputId": "9a41dbe2-c1d1-4656-fcff-e76bad1cc268"
      },
      "source": [
        "sns.barplot(x = 'dscnompessoa', y = 'sum', data = res)"
      ],
      "execution_count": 25,
      "outputs": [
        {
          "output_type": "execute_result",
          "data": {
            "text/plain": [
              "<matplotlib.axes._subplots.AxesSubplot at 0x7f432038d150>"
            ]
          },
          "metadata": {},
          "execution_count": 25
        },
        {
          "output_type": "display_data",
          "data": {
            "image/png": "[encoded data removed]",
            "text/plain": [
              "<Figure size 432x288 with 1 Axes>"
            ]
          },
          "metadata": {
            "needs_background": "light"
          }
        }
      ]
    },
    {
      "cell_type": "markdown",
      "metadata": {
        "id": "ydO0-41oDu7O"
      },
      "source": [
        "# ==========================================================================================\n",
        "## Relatório 5\n",
        "### Objetivo: Relatório com as categorias de produtos mais requisitadas e quanto venderam.\n",
        "Código para obtenção do resultado:"
      ]
    },
    {
      "cell_type": "code",
      "metadata": {
        "id": "a7husGKMD6u2",
        "colab": {
          "base_uri": "https://localhost:8080/",
          "height": 173
        },
        "outputId": "4af5b2f5-fcaf-4e4a-b9a8-519f7712923e"
      },
      "source": [
        "res = pd.read_sql_query(\"SELECT produto.tpproduto, SUM(itensvendidos.dscqtd) AS totalvendido FROM mydb.produto INNER JOIN mydb.catalogo ON(produto.idproduto = catalogo.produto_idproduto) INNER JOIN mydb.itensvendidos ON(itensvendidos.catalogo_idcatalogo = catalogo.idcatalogo) GROUP BY produto.tpproduto ORDER BY SUM(itensvendidos.dscqtd) DESC\", conn)\n",
        "res"
      ],
      "execution_count": 29,
      "outputs": [
        {
          "output_type": "execute_result",
          "data": {
            "text/html": [
              "<div>\n",
              "<style scoped>\n",
              "    .dataframe tbody tr th:only-of-type {\n",
              "        vertical-align: middle;\n",
              "    }\n",
              "\n",
              "    .dataframe tbody tr th {\n",
              "        vertical-align: top;\n",
              "    }\n",
              "\n",
              "    .dataframe thead th {\n",
              "        text-align: right;\n",
              "    }\n",
              "</style>\n",
              "<table border=\"1\" class=\"dataframe\">\n",
              "  <thead>\n",
              "    <tr style=\"text-align: right;\">\n",
              "      <th></th>\n",
              "      <th>tpproduto</th>\n",
              "      <th>totalvendido</th>\n",
              "    </tr>\n",
              "  </thead>\n",
              "  <tbody>\n",
              "    <tr>\n",
              "      <th>0</th>\n",
              "      <td>Moda e beleza</td>\n",
              "      <td>6</td>\n",
              "    </tr>\n",
              "    <tr>\n",
              "      <th>1</th>\n",
              "      <td>Eletrônico</td>\n",
              "      <td>2</td>\n",
              "    </tr>\n",
              "    <tr>\n",
              "      <th>2</th>\n",
              "      <td>Console de Videogame</td>\n",
              "      <td>1</td>\n",
              "    </tr>\n",
              "    <tr>\n",
              "      <th>3</th>\n",
              "      <td>Casa e decoração</td>\n",
              "      <td>1</td>\n",
              "    </tr>\n",
              "  </tbody>\n",
              "</table>\n",
              "</div>"
            ],
            "text/plain": [
              "              tpproduto  totalvendido\n",
              "0         Moda e beleza             6\n",
              "1            Eletrônico             2\n",
              "2  Console de Videogame             1\n",
              "3      Casa e decoração             1"
            ]
          },
          "metadata": {},
          "execution_count": 29
        }
      ]
    },
    {
      "cell_type": "code",
      "metadata": {
        "colab": {
          "base_uri": "https://localhost:8080/",
          "height": 380
        },
        "id": "j-5_naSUuS1Z",
        "outputId": "c17b5cc3-314f-461d-8e53-9cc7a36a9dd3"
      },
      "source": [
        "plt.xticks(rotation=50)\n",
        "sns.barplot(x = 'tpproduto', y = 'totalvendido', data = res)"
      ],
      "execution_count": 31,
      "outputs": [
        {
          "output_type": "execute_result",
          "data": {
            "text/plain": [
              "<matplotlib.axes._subplots.AxesSubplot at 0x7f43202b1550>"
            ]
          },
          "metadata": {},
          "execution_count": 31
        },
        {
          "output_type": "display_data",
          "data": {
            "image/png": "[encoded data removed]",
            "text/plain": [
              "<Figure size 432x288 with 1 Axes>"
            ]
          },
          "metadata": {
            "needs_background": "light"
          }
        }
      ]
    }
  ]
}